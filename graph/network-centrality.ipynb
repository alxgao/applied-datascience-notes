{
 "cells": [
  {
   "cell_type": "code",
   "execution_count": 45,
   "id": "708680e7-3da2-46e0-90c6-5043945b07df",
   "metadata": {},
   "outputs": [],
   "source": [
    "import networkx as nx\n",
    "G = nx.karate_club_graph()\n",
    "G = nx.convert_node_labels_to_integers(G, first_label = 1)"
   ]
  },
  {
   "cell_type": "markdown",
   "id": "e3b9321c-f993-473b-ae8e-5ddf6af20297",
   "metadata": {
    "tags": []
   },
   "source": [
    "### Degree Centrality: Important nodes have highest number of Neighbors\n",
    "### $\\frac{\\# \\ neighbors}{\\# \\ nodes\\ -\\ 1}$"
   ]
  },
  {
   "cell_type": "code",
   "execution_count": 46,
   "id": "9e7fbd2f-6253-4c51-b22f-b9221978e617",
   "metadata": {},
   "outputs": [
    {
     "data": {
      "text/plain": [
       "(0.5151515151515151, 34)"
      ]
     },
     "execution_count": 46,
     "metadata": {},
     "output_type": "execute_result"
    }
   ],
   "source": [
    "deg_cent = nx.degree_centrality(G)\n",
    "max(zip(deg_cent.values(), deg_cent.keys()))"
   ]
  },
  {
   "cell_type": "markdown",
   "id": "f9ae4f49-7c1a-4313-9f11-0328e00f01fe",
   "metadata": {},
   "source": [
    "For directed graphs:\\\n",
    "```nx.out_degree_centrality(G)```\\\n",
    "```nx.in_degree_centrality(G)```"
   ]
  },
  {
   "cell_type": "markdown",
   "id": "9ecc267a-e94e-44a8-8ce8-c7bc3d958ffb",
   "metadata": {},
   "source": [
    "### Closeness Centrality: Important nodes are closest to all nodes\n",
    "### $\\frac{\\# \\ nodes\\ -\\ 1}{\\sum distance\\ between\\ one\\ node\\ and\\ rest}$"
   ]
  },
  {
   "cell_type": "code",
   "execution_count": 47,
   "id": "0bd744ee-dc87-4955-8084-382043a5f36a",
   "metadata": {},
   "outputs": [
    {
     "data": {
      "text/plain": [
       "(0.5689655172413793, 1)"
      ]
     },
     "execution_count": 47,
     "metadata": {},
     "output_type": "execute_result"
    }
   ],
   "source": [
    "close_cent = nx.closeness_centrality(G)\n",
    "max(zip(close_cent.values(), close_cent.keys()))"
   ]
  },
  {
   "cell_type": "markdown",
   "id": "53c412c3-52e8-41df-93b6-80e1095ddcfd",
   "metadata": {},
   "source": [
    "#### For disconnected nodes:\n",
    "### $\\frac{\\# \\ nodes\\ can\\ reach}{\\# \\ nodes\\ -\\ 1} * \\frac{\\# \\ nodes\\ can\\ reach}{\\sum distance\\ between\\ one\\ node\\ and\\ rest}$"
   ]
  },
  {
   "cell_type": "markdown",
   "id": "7c97d6bc-bfaf-49fb-aede-119fede2ca79",
   "metadata": {},
   "source": [
    "```nx.closeness_centrality(G, normalized = True)```"
   ]
  },
  {
   "cell_type": "markdown",
   "id": "c20d1689-261d-4576-a1f5-60badf4046b3",
   "metadata": {},
   "source": [
    "### Betweenness Centrality: Important nodes connects other nodes\n",
    "### $\\sum\\frac{\\# shortest\\ paths\\ that\\ pass\\ through\\ node}{\\#\\ shortest\\ paths}$"
   ]
  },
  {
   "cell_type": "code",
   "execution_count": 48,
   "id": "a44db4a0-f736-4158-83ed-7d6b4d22c9ee",
   "metadata": {},
   "outputs": [
    {
     "data": {
      "text/plain": [
       "(0.423686568061568, 1)"
      ]
     },
     "execution_count": 48,
     "metadata": {},
     "output_type": "execute_result"
    }
   ],
   "source": [
    "btwn_cent = nx.betweenness_centrality(G, normalized = True, endpoints = False,\n",
    "                                     k = 10) # k = 10 gives approximation using ten nodes but a lot less computationally intense since normally O(N^3)\n",
    "max(zip(btwn_cent.values(), btwn_cent.keys()))"
   ]
  },
  {
   "cell_type": "code",
   "execution_count": 49,
   "id": "665f3685-c7b8-4243-ac3f-ecc9af5ecdb5",
   "metadata": {},
   "outputs": [
    {
     "data": {
      "text/plain": [
       "(0.1272599949070537, (1, 32))"
      ]
     },
     "execution_count": 49,
     "metadata": {},
     "output_type": "execute_result"
    }
   ],
   "source": [
    "# edge instead of node alternative\n",
    "btwn_cent_edge = nx.edge_betweenness_centrality(G, normalized = True)\n",
    "max(zip(btwn_cent_edge.values(), btwn_cent_edge.keys()))"
   ]
  },
  {
   "cell_type": "markdown",
   "id": "afa0aa4e-4ae8-4ee6-a174-dd8ae32489e8",
   "metadata": {},
   "source": [
    "### PageRank\n",
    "#### Each node has a PageRank of $\\frac{1}{n}$. For each update, every node receives the sum of all the PageRank of other nodes pointing to it"
   ]
  },
  {
   "cell_type": "markdown",
   "id": "8207260b-2f71-4462-87ff-13e828dc36e2",
   "metadata": {},
   "source": [
    "### Scaled PageRank\n",
    "#### probability $\\alpha$ of normal PageRank and probability $1 - \\alpha$ of choosing a node at random\n",
    "#### prevents getting stuck in cycles. normally around 0.8-0.9"
   ]
  },
  {
   "cell_type": "markdown",
   "id": "f5e07545-9bf4-420d-a148-697008803a7c",
   "metadata": {},
   "source": [
    "### Hubs and Authorities\n",
    "Roots: highly relevant nodes\\\n",
    "Base: root nodes and any node that links to a root node"
   ]
  },
  {
   "cell_type": "markdown",
   "id": "fb5d6575-cf4d-45f1-a059-9e2bf0f413f5",
   "metadata": {},
   "source": [
    "#### HITS Algorithm:\n",
    "1. assign hub and authority score of 1\n",
    "2. new authority score is total in-degree of hub scores\n",
    "3. new hub score is total out-degree score authority scores\n",
    "4. normalize all scores\n",
    "5. repeat $k$ times"
   ]
  }
 ],
 "metadata": {
  "kernelspec": {
   "display_name": "Python 3 (ipykernel)",
   "language": "python",
   "name": "python3"
  },
  "language_info": {
   "codemirror_mode": {
    "name": "ipython",
    "version": 3
   },
   "file_extension": ".py",
   "mimetype": "text/x-python",
   "name": "python",
   "nbconvert_exporter": "python",
   "pygments_lexer": "ipython3",
   "version": "3.9.13"
  }
 },
 "nbformat": 4,
 "nbformat_minor": 5
}
