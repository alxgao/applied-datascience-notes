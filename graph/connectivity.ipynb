{
 "cells": [
  {
   "cell_type": "code",
   "execution_count": 2,
   "id": "c6680007-abbf-44c7-85f4-65e1163d64ca",
   "metadata": {},
   "outputs": [],
   "source": [
    "import networkx as nx"
   ]
  },
  {
   "cell_type": "markdown",
   "id": "6792da98-f046-435c-ae9f-0ef5541c61f1",
   "metadata": {},
   "source": [
    "### Clustering Coefficient\n",
    "fraction of pairs node's friends that are friends with each other.\\\n",
    "higher = more clustered."
   ]
  },
  {
   "cell_type": "code",
   "execution_count": 3,
   "id": "6f5a01f0-8a02-4067-b817-e934bb9825c2",
   "metadata": {},
   "outputs": [
    {
     "data": {
      "text/plain": [
       "0.3333333333333333"
      ]
     },
     "execution_count": 3,
     "metadata": {},
     "output_type": "execute_result"
    }
   ],
   "source": [
    "# Local coefficient\n",
    "G = nx.Graph()\n",
    "G.add_edges_from([('A', 'K'), ('A', 'B'), ('A', 'C'), ('B', 'C'), ('B', 'K'), ('D', 'E'), ('I', 'J'), ('C', 'F'), ('E', 'F'), ('F', 'G'), \n",
    "                  ('C', 'E'), ('E', 'H'), ('E', 'I')])\n",
    "nx.clustering(G, 'F')"
   ]
  },
  {
   "cell_type": "code",
   "execution_count": 4,
   "id": "3a2ba6c3-75fc-4c7e-8db3-c254e4289e0a",
   "metadata": {},
   "outputs": [
    {
     "data": {
      "text/plain": [
       "0.2818181818181818"
      ]
     },
     "execution_count": 4,
     "metadata": {},
     "output_type": "execute_result"
    }
   ],
   "source": [
    "# Average of all local coefficients for each node\n",
    "nx.average_clustering(G)"
   ]
  },
  {
   "cell_type": "code",
   "execution_count": 5,
   "id": "9e20f49c-af7f-40e9-9274-bff7152fe513",
   "metadata": {},
   "outputs": [
    {
     "data": {
      "text/plain": [
       "0.3333333333333333"
      ]
     },
     "execution_count": 5,
     "metadata": {},
     "output_type": "execute_result"
    }
   ],
   "source": [
    "# Transitivity: 3 * num closed triads / num open triads\n",
    "# Weights nodes with large degree higher\n",
    "nx.transitivity(G)"
   ]
  },
  {
   "cell_type": "markdown",
   "id": "06951b0b-debd-4fbd-9af7-843c1e781512",
   "metadata": {},
   "source": [
    "### Distance Measures"
   ]
  },
  {
   "cell_type": "code",
   "execution_count": 6,
   "id": "e1380463-5eb5-4215-97ce-2b2e27ba3b32",
   "metadata": {},
   "outputs": [
    {
     "data": {
      "text/plain": [
       "['A', 'C', 'E', 'H']"
      ]
     },
     "execution_count": 6,
     "metadata": {},
     "output_type": "execute_result"
    }
   ],
   "source": [
    "nx.shortest_path(G, 'A', 'H')"
   ]
  },
  {
   "cell_type": "code",
   "execution_count": 7,
   "id": "8c7ef3e5-ce28-4893-9170-0fbd34e1d17c",
   "metadata": {},
   "outputs": [
    {
     "data": {
      "text/plain": [
       "3"
      ]
     },
     "execution_count": 7,
     "metadata": {},
     "output_type": "execute_result"
    }
   ],
   "source": [
    "nx.shortest_path_length(G, 'A', 'H')"
   ]
  },
  {
   "cell_type": "code",
   "execution_count": 8,
   "id": "0296b9ab-4d57-46b2-af27-1a90e1ab8803",
   "metadata": {},
   "outputs": [
    {
     "name": "stdout",
     "output_type": "stream",
     "text": [
      "[('A', 'K'), ('A', 'B'), ('A', 'C'), ('C', 'F'), ('C', 'E'), ('F', 'G'), ('E', 'D'), ('E', 'H'), ('E', 'I'), ('I', 'J')]\n",
      "{'A': 0, 'C': 1, 'K': 1, 'B': 1, 'F': 2, 'E': 2, 'H': 3, 'I': 3, 'D': 3, 'G': 3, 'J': 4}\n"
     ]
    }
   ],
   "source": [
    "# BFS\n",
    "T = nx.bfs_tree(G, 'A')\n",
    "print(T.edges())\n",
    "print(nx.shortest_path_length(G, 'A'))"
   ]
  },
  {
   "cell_type": "code",
   "execution_count": 9,
   "id": "00b3c151-850a-40c6-b48e-ccad4049560e",
   "metadata": {},
   "outputs": [
    {
     "data": {
      "text/plain": [
       "2.381818181818182"
      ]
     },
     "execution_count": 9,
     "metadata": {},
     "output_type": "execute_result"
    }
   ],
   "source": [
    "nx.average_shortest_path_length(G)"
   ]
  },
  {
   "cell_type": "code",
   "execution_count": 10,
   "id": "660f05fc-e8a4-46ff-8c2f-acb342f7ae94",
   "metadata": {},
   "outputs": [
    {
     "data": {
      "text/plain": [
       "5"
      ]
     },
     "execution_count": 10,
     "metadata": {},
     "output_type": "execute_result"
    }
   ],
   "source": [
    "# maximum distance between any pair of nodes\n",
    "nx.diameter(G)"
   ]
  },
  {
   "cell_type": "code",
   "execution_count": 11,
   "id": "7964bad7-ebf8-4d94-87bb-fbfdec9f9e02",
   "metadata": {},
   "outputs": [
    {
     "name": "stdout",
     "output_type": "stream",
     "text": [
      "{'A': 4, 'K': 5, 'B': 4, 'C': 3, 'D': 4, 'E': 3, 'I': 4, 'J': 5, 'F': 3, 'G': 4, 'H': 4}\n"
     ]
    }
   ],
   "source": [
    "# maximum distance between any pair of nodes for each node\n",
    "print(nx.eccentricity(G))"
   ]
  },
  {
   "cell_type": "code",
   "execution_count": 12,
   "id": "65b0eacf-db93-4b2e-97fa-f980b5300738",
   "metadata": {},
   "outputs": [
    {
     "data": {
      "text/plain": [
       "3"
      ]
     },
     "execution_count": 12,
     "metadata": {},
     "output_type": "execute_result"
    }
   ],
   "source": [
    "# minimum eccentricity\n",
    "nx.radius(G)"
   ]
  },
  {
   "cell_type": "code",
   "execution_count": 13,
   "id": "d3206c67-7214-4ce1-8891-2eccb94a7034",
   "metadata": {},
   "outputs": [
    {
     "data": {
      "text/plain": [
       "['K', 'J']"
      ]
     },
     "execution_count": 13,
     "metadata": {},
     "output_type": "execute_result"
    }
   ],
   "source": [
    "# nodes that have eccentricity equal to diameter\n",
    "nx.periphery(G)"
   ]
  },
  {
   "cell_type": "code",
   "execution_count": 14,
   "id": "ecb15f74-314c-4631-9bd5-6158e53331e2",
   "metadata": {},
   "outputs": [
    {
     "data": {
      "text/plain": [
       "['C', 'E', 'F']"
      ]
     },
     "execution_count": 14,
     "metadata": {},
     "output_type": "execute_result"
    }
   ],
   "source": [
    "# nodes that have eccentricity equal to radius\n",
    "nx.center(G)"
   ]
  },
  {
   "cell_type": "markdown",
   "id": "dbf192f7-bb10-49cd-96ec-394c20734880",
   "metadata": {},
   "source": [
    "### Connected Components\n",
    "a subset such that 1) every node has a path to another node within the subset and 2) does not have a path to any node outside of subset"
   ]
  },
  {
   "cell_type": "code",
   "execution_count": 16,
   "id": "0d3f1f13-b365-4063-8fad-9b4e9017e3dd",
   "metadata": {},
   "outputs": [
    {
     "data": {
      "text/plain": [
       "True"
      ]
     },
     "execution_count": 16,
     "metadata": {},
     "output_type": "execute_result"
    }
   ],
   "source": [
    "nx.is_connected(G)"
   ]
  },
  {
   "cell_type": "code",
   "execution_count": 19,
   "id": "51836479-d6a8-4fb0-b663-bc47a39707b1",
   "metadata": {},
   "outputs": [],
   "source": [
    "G.add_edges_from([('Z', 'Y'), ('Y', 'X')])"
   ]
  },
  {
   "cell_type": "code",
   "execution_count": 20,
   "id": "731c3c6e-f8fe-42b9-8905-1aca11fa6d6d",
   "metadata": {},
   "outputs": [
    {
     "data": {
      "text/plain": [
       "False"
      ]
     },
     "execution_count": 20,
     "metadata": {},
     "output_type": "execute_result"
    }
   ],
   "source": [
    "nx.is_connected(G)"
   ]
  },
  {
   "cell_type": "code",
   "execution_count": 22,
   "id": "4e1ee2c4-8a49-43af-9ee3-6b3a594e12a9",
   "metadata": {},
   "outputs": [
    {
     "data": {
      "text/plain": [
       "2"
      ]
     },
     "execution_count": 22,
     "metadata": {},
     "output_type": "execute_result"
    }
   ],
   "source": [
    "nx.number_connected_components(G)"
   ]
  },
  {
   "cell_type": "code",
   "execution_count": 26,
   "id": "1c5f1422-9ac8-4cd5-bdd9-0441f1427ba2",
   "metadata": {},
   "outputs": [
    {
     "data": {
      "text/plain": [
       "[{'A', 'B', 'C', 'D', 'E', 'F', 'G', 'H', 'I', 'J', 'K'}, {'X', 'Y', 'Z'}]"
      ]
     },
     "execution_count": 26,
     "metadata": {},
     "output_type": "execute_result"
    }
   ],
   "source": [
    "list(nx.connected_components(G))"
   ]
  },
  {
   "cell_type": "code",
   "execution_count": 28,
   "id": "976f0c80-950e-4985-8867-4d74aacefd52",
   "metadata": {},
   "outputs": [
    {
     "data": {
      "text/plain": [
       "{'X', 'Y', 'Z'}"
      ]
     },
     "execution_count": 28,
     "metadata": {},
     "output_type": "execute_result"
    }
   ],
   "source": [
    "# connected component where X belongs to\n",
    "nx.node_connected_component(G, 'X')"
   ]
  },
  {
   "cell_type": "markdown",
   "id": "1a2242f6-73b1-4ff6-8839-ca826cb75264",
   "metadata": {},
   "source": [
    "Strongly Connected: for every pair of nodes, there is a directed path between the two```nx.is_strongly_connected(G)```\\\n",
    "Weakly Connected: if directed edge were undirected, the graph is a connected component```nx.is_weakly_connected(G)```\\\n",
    "Finding the strongly connected components: ```nx.strongly_connected_components```"
   ]
  },
  {
   "cell_type": "markdown",
   "id": "9c23ae99-24f8-499f-94db-c61aca0fc116",
   "metadata": {},
   "source": [
    "### Network Robustness\n",
    "- Ability of a network to maintain its connectivity when nodes or edges are removed"
   ]
  },
  {
   "cell_type": "markdown",
   "id": "e07896c9-e692-41c4-b2fc-123cf3ed2ea2",
   "metadata": {},
   "source": [
    "- Minimum number of nodes that can be removed to disconnect it: ```nx.node_connectivity(G)```\n",
    "- The node(s) that would disconnect it: ```nx.minimum_node_cut(G)```"
   ]
  },
  {
   "cell_type": "markdown",
   "id": "4d0b5649-f5cc-478b-bdbe-0e3f5df02423",
   "metadata": {},
   "source": [
    "- Min num edges: ```nx.edge_connectivity(G)```\n",
    "- Which edges: ```nx.minimum_edge_cut(G)```"
   ]
  },
  {
   "cell_type": "markdown",
   "id": "1b665264-3db7-4aeb-841d-b3fe5de3501b",
   "metadata": {},
   "source": [
    "#### Directed Graph\n",
    "- Min number nodes to remove to stop paths from G to L: ```nx.node_connectivity(G, 'G', 'L')```\n",
    "- Which nodes: ```nx.minimum_node_cut(G, 'G', 'L')```"
   ]
  },
  {
   "cell_type": "markdown",
   "id": "dc1aab4d-c703-486c-8630-28747fe3f54d",
   "metadata": {},
   "source": [
    "- Min number edges to remove to stop paths from G to L: ```nx.edge_connectivity(G, 'G', 'L')```\n",
    "- Which edges: ```nx.minimum_edge_cut(G, 'G', 'L')```"
   ]
  }
 ],
 "metadata": {
  "kernelspec": {
   "display_name": "Python 3 (ipykernel)",
   "language": "python",
   "name": "python3"
  },
  "language_info": {
   "codemirror_mode": {
    "name": "ipython",
    "version": 3
   },
   "file_extension": ".py",
   "mimetype": "text/x-python",
   "name": "python",
   "nbconvert_exporter": "python",
   "pygments_lexer": "ipython3",
   "version": "3.9.13"
  }
 },
 "nbformat": 4,
 "nbformat_minor": 5
}
