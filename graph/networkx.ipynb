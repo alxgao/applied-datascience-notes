{
 "cells": [
  {
   "cell_type": "code",
   "execution_count": 153,
   "id": "cc7738b0-7b55-473c-9a3e-be8a36a145d6",
   "metadata": {},
   "outputs": [],
   "source": [
    "import networkx as nx"
   ]
  },
  {
   "cell_type": "markdown",
   "id": "b31e1b77-552d-45ff-8ced-e42a90d4a551",
   "metadata": {},
   "source": [
    "### Graphs"
   ]
  },
  {
   "cell_type": "code",
   "execution_count": 154,
   "id": "01bd0b1b-4c8d-4687-98fa-444c71fb6793",
   "metadata": {},
   "outputs": [],
   "source": [
    "# undirected graph\n",
    "G = nx.Graph()\n",
    "G.add_edge('A', 'B')\n",
    "G.add_edge('B', 'C')"
   ]
  },
  {
   "cell_type": "code",
   "execution_count": 155,
   "id": "5ba45ac4-2237-429e-be7c-3ba5bc08aafe",
   "metadata": {},
   "outputs": [],
   "source": [
    "# directed graph\n",
    "G = nx.DiGraph()\n",
    "G.add_edge('B', 'A')\n",
    "G.add_edge('B', 'C')"
   ]
  },
  {
   "cell_type": "code",
   "execution_count": 156,
   "id": "327be6d9-d9e3-41b6-bb6a-06e35bb568ca",
   "metadata": {},
   "outputs": [],
   "source": [
    "# weighted graph\n",
    "G = nx.Graph()\n",
    "G.add_edge('A', 'B', weight = 6)"
   ]
  },
  {
   "cell_type": "code",
   "execution_count": 157,
   "id": "8a408d13-f71a-467d-ad30-5dbd831b072a",
   "metadata": {},
   "outputs": [],
   "source": [
    "# signed graph\n",
    "G = nx.Graph()\n",
    "G.add_edge('A', 'B', sign = '+')\n",
    "G.add_edge('C', 'B', sign = '-')"
   ]
  },
  {
   "cell_type": "code",
   "execution_count": 158,
   "id": "256ab9de-f935-477e-a917-a6dbe70805c4",
   "metadata": {},
   "outputs": [],
   "source": [
    "# labeled graph\n",
    "G = G = nx.Graph()\n",
    "G.add_edge('A', 'B', relation = 'friend')\n",
    "G.add_edge('D', 'B', relation = 'family')"
   ]
  },
  {
   "cell_type": "code",
   "execution_count": 159,
   "id": "50651018-0ca7-4c6d-94c1-b08e7d6d39b7",
   "metadata": {},
   "outputs": [],
   "source": [
    "# multigraph\n",
    "G = nx.MultiGraph()\n",
    "G.add_edge('A', 'B', relation = 'friend')\n",
    "G.add_edge('A', 'B', relation = 'neighbor'); "
   ]
  },
  {
   "cell_type": "code",
   "execution_count": 160,
   "id": "82550146-1760-4e85-88f0-db5b3f136720",
   "metadata": {},
   "outputs": [],
   "source": [
    "# directed multigraph\n",
    "G = nx.MultiDiGraph()"
   ]
  },
  {
   "cell_type": "markdown",
   "id": "2f4f1a82-c147-4256-96a2-58639c0b32e1",
   "metadata": {},
   "source": [
    "### Attributes"
   ]
  },
  {
   "cell_type": "code",
   "execution_count": 161,
   "id": "b25f08fe-320b-4083-931e-829efa0a6a1a",
   "metadata": {},
   "outputs": [],
   "source": [
    "# labeled graph\n",
    "G = G = nx.Graph()\n",
    "G.add_edge('A', 'B', relation = 'friend', weight = 5)\n",
    "G.add_edge('C', 'B', relation = 'coworker', sign = '+')\n",
    "G.add_edge('D', 'B', relation = 'family')"
   ]
  },
  {
   "cell_type": "code",
   "execution_count": 162,
   "id": "980a86b8-14f8-4ada-83f7-a3e753c52b85",
   "metadata": {},
   "outputs": [
    {
     "data": {
      "text/plain": [
       "[('A', 'B'), ('B', 'C'), ('B', 'D')]"
      ]
     },
     "execution_count": 162,
     "metadata": {},
     "output_type": "execute_result"
    }
   ],
   "source": [
    "list(G.edges())"
   ]
  },
  {
   "cell_type": "code",
   "execution_count": 163,
   "id": "d32b7423-e9ff-46b9-bf4c-243b9191a2fa",
   "metadata": {},
   "outputs": [
    {
     "data": {
      "text/plain": [
       "[('A', 'B', {'relation': 'friend', 'weight': 5}),\n",
       " ('B', 'C', {'relation': 'coworker', 'sign': '+'}),\n",
       " ('B', 'D', {'relation': 'family'})]"
      ]
     },
     "execution_count": 163,
     "metadata": {},
     "output_type": "execute_result"
    }
   ],
   "source": [
    "list(G.edges(data=True))"
   ]
  },
  {
   "cell_type": "code",
   "execution_count": 164,
   "id": "3be09f12-30f3-4bf7-93ad-18c31268465f",
   "metadata": {},
   "outputs": [
    {
     "data": {
      "text/plain": [
       "{'relation': 'friend', 'weight': 5}"
      ]
     },
     "execution_count": 164,
     "metadata": {},
     "output_type": "execute_result"
    }
   ],
   "source": [
    "G.edges['A', 'B']"
   ]
  },
  {
   "cell_type": "code",
   "execution_count": 165,
   "id": "64c15480-838f-4ccf-86a0-44717437421b",
   "metadata": {},
   "outputs": [
    {
     "data": {
      "text/plain": [
       "5"
      ]
     },
     "execution_count": 165,
     "metadata": {},
     "output_type": "execute_result"
    }
   ],
   "source": [
    "G.edges['A', 'B']['weight']"
   ]
  },
  {
   "cell_type": "code",
   "execution_count": 166,
   "id": "63437ed2-4de8-4640-b48e-134b6a8916c0",
   "metadata": {},
   "outputs": [
    {
     "data": {
      "text/plain": [
       "1"
      ]
     },
     "execution_count": 166,
     "metadata": {},
     "output_type": "execute_result"
    }
   ],
   "source": [
    "# MultiGraph\n",
    "G = nx.MultiGraph()\n",
    "G.add_edge('A', 'B', relation = 'friend')\n",
    "G.add_edge('A', 'B', relation = 'neighbor')"
   ]
  },
  {
   "cell_type": "code",
   "execution_count": 167,
   "id": "37fecd8f-af8f-4fa5-b5d6-7c84eeae0076",
   "metadata": {},
   "outputs": [
    {
     "data": {
      "text/plain": [
       "{'relation': 'friend'}"
      ]
     },
     "execution_count": 167,
     "metadata": {},
     "output_type": "execute_result"
    }
   ],
   "source": [
    "G.edges['A', 'B', 0]"
   ]
  },
  {
   "cell_type": "code",
   "execution_count": 168,
   "id": "097521ed-e460-43b5-8556-5f88d0c84f4c",
   "metadata": {},
   "outputs": [
    {
     "data": {
      "text/plain": [
       "{'relation': 'neighbor'}"
      ]
     },
     "execution_count": 168,
     "metadata": {},
     "output_type": "execute_result"
    }
   ],
   "source": [
    "G.edges['A', 'B', 1]"
   ]
  },
  {
   "cell_type": "code",
   "execution_count": 169,
   "id": "179564cb-f43b-43c9-9e65-d3a9cbae81ab",
   "metadata": {},
   "outputs": [],
   "source": [
    "G.add_node('A', role = 'trader')"
   ]
  },
  {
   "cell_type": "code",
   "execution_count": 170,
   "id": "b01d36c5-e861-42ff-a5be-4d6e42965c8a",
   "metadata": {},
   "outputs": [],
   "source": [
    "G.add_node('B', role = 'manager')"
   ]
  },
  {
   "cell_type": "code",
   "execution_count": 171,
   "id": "ea71bdec-01bd-471c-8f55-e55ba3d8b592",
   "metadata": {},
   "outputs": [
    {
     "data": {
      "text/plain": [
       "NodeView(('A', 'B'))"
      ]
     },
     "execution_count": 171,
     "metadata": {},
     "output_type": "execute_result"
    }
   ],
   "source": [
    "G.nodes()"
   ]
  },
  {
   "cell_type": "code",
   "execution_count": 172,
   "id": "cae73c2c-f3b3-4b45-8269-c16bc69cb3dc",
   "metadata": {},
   "outputs": [
    {
     "data": {
      "text/plain": [
       "NodeDataView({'A': {'role': 'trader'}, 'B': {'role': 'manager'}})"
      ]
     },
     "execution_count": 172,
     "metadata": {},
     "output_type": "execute_result"
    }
   ],
   "source": [
    "G.nodes(data = True)"
   ]
  },
  {
   "cell_type": "code",
   "execution_count": 173,
   "id": "902000f7-9d6c-46a6-afc6-10c33f777da6",
   "metadata": {},
   "outputs": [
    {
     "data": {
      "text/plain": [
       "{'role': 'trader'}"
      ]
     },
     "execution_count": 173,
     "metadata": {},
     "output_type": "execute_result"
    }
   ],
   "source": [
    "G.nodes['A']"
   ]
  },
  {
   "cell_type": "markdown",
   "id": "f498545c-cfea-4462-92c1-29c6c66240cd",
   "metadata": {},
   "source": [
    "### Bipartite graph\n",
    "#### Let $L$ and $R$ be disjoint sets. Node $x \\in L$ can be connected to node $y \\iff y \\in R$"
   ]
  },
  {
   "cell_type": "code",
   "execution_count": 174,
   "id": "69a2ca0a-d7cd-4268-83e3-f7f2ab0f5c86",
   "metadata": {},
   "outputs": [],
   "source": [
    "from networkx.algorithms import bipartite"
   ]
  },
  {
   "cell_type": "code",
   "execution_count": 175,
   "id": "2590a0fb-a5b4-4c93-b060-e1fe7652cec6",
   "metadata": {},
   "outputs": [],
   "source": [
    "B = nx.Graph()"
   ]
  },
  {
   "cell_type": "code",
   "execution_count": 176,
   "id": "5e1d7ab4-fd31-4f5b-b84c-4214e9c8c4a6",
   "metadata": {},
   "outputs": [],
   "source": [
    "B.add_nodes_from(['A', 'B', 'C', 'D', 'E'], bipartite = 0)"
   ]
  },
  {
   "cell_type": "code",
   "execution_count": 177,
   "id": "671e9aa7-a8e6-468e-82bc-bcb181d23d2a",
   "metadata": {},
   "outputs": [],
   "source": [
    "B.add_nodes_from([1, 2, 3, 4], bipartite = 1)"
   ]
  },
  {
   "cell_type": "code",
   "execution_count": 178,
   "id": "5909fd20-8705-436a-b017-7e9376a8c3e0",
   "metadata": {},
   "outputs": [],
   "source": [
    "B.add_edges_from([('A', 1), ('B', 1), ('C', 1), ('C', 3), ('D', 2), ('E', 3), ('E', 4)])"
   ]
  },
  {
   "cell_type": "code",
   "execution_count": 179,
   "id": "6620f5eb-479e-47bb-be16-ed1cd9d9ae30",
   "metadata": {},
   "outputs": [
    {
     "data": {
      "text/plain": [
       "True"
      ]
     },
     "execution_count": 179,
     "metadata": {},
     "output_type": "execute_result"
    }
   ],
   "source": [
    "bipartite.is_bipartite(B)"
   ]
  },
  {
   "cell_type": "code",
   "execution_count": 180,
   "id": "7e2516af-ba0a-4312-9416-96c738af4f66",
   "metadata": {},
   "outputs": [
    {
     "data": {
      "text/plain": [
       "False"
      ]
     },
     "execution_count": 180,
     "metadata": {},
     "output_type": "execute_result"
    }
   ],
   "source": [
    "B.add_edge('A', 'B')\n",
    "bipartite.is_bipartite(B)"
   ]
  },
  {
   "cell_type": "code",
   "execution_count": 181,
   "id": "9b2f2ef1-5356-4071-ad2a-3101001929f0",
   "metadata": {},
   "outputs": [],
   "source": [
    "B.remove_edge('A', 'B')"
   ]
  },
  {
   "cell_type": "code",
   "execution_count": 182,
   "id": "49310bcb-5060-4007-83f6-bc80d8a4f171",
   "metadata": {},
   "outputs": [],
   "source": [
    "X = set([1, 2, 3, 4])"
   ]
  },
  {
   "cell_type": "code",
   "execution_count": 183,
   "id": "65400663-7d8f-4e47-bf4e-398451df5b72",
   "metadata": {},
   "outputs": [
    {
     "data": {
      "text/plain": [
       "True"
      ]
     },
     "execution_count": 183,
     "metadata": {},
     "output_type": "execute_result"
    }
   ],
   "source": [
    "bipartite.is_bipartite_node_set(B, X)"
   ]
  },
  {
   "cell_type": "code",
   "execution_count": 184,
   "id": "f6b6d7c6-107e-4da3-b136-04573fd9b419",
   "metadata": {},
   "outputs": [],
   "source": [
    "# L-Bipartite graph projection\n",
    "# connects nodes from set L if they have a common edge with a node in R\n",
    "P = bipartite.projected_graph(B, X)"
   ]
  },
  {
   "cell_type": "code",
   "execution_count": 185,
   "id": "a655d1c1-828e-416b-839d-ffa63896bf13",
   "metadata": {},
   "outputs": [
    {
     "data": {
      "text/plain": [
       "EdgeDataView([(1, 3, {}), (3, 4, {})])"
      ]
     },
     "execution_count": 185,
     "metadata": {},
     "output_type": "execute_result"
    }
   ],
   "source": [
    "P.edges(data=True)"
   ]
  },
  {
   "cell_type": "code",
   "execution_count": 186,
   "id": "ba0b0bfb-2790-45b8-9903-e727d02b2b9e",
   "metadata": {},
   "outputs": [],
   "source": [
    "# L-Bipartite weighted graph projection\n",
    "# weight is proportional to number of common edges\n",
    "P = bipartite.weighted_projected_graph(B, X)"
   ]
  },
  {
   "cell_type": "code",
   "execution_count": 187,
   "id": "2d37c3ea-1f62-47f3-9c61-84fcb8363f57",
   "metadata": {},
   "outputs": [
    {
     "data": {
      "text/plain": [
       "EdgeDataView([(1, 3, {'weight': 1}), (3, 4, {'weight': 1})])"
      ]
     },
     "execution_count": 187,
     "metadata": {},
     "output_type": "execute_result"
    }
   ],
   "source": [
    "P.edges(data=True)"
   ]
  },
  {
   "cell_type": "markdown",
   "id": "bd960340-4e2b-465c-a6a8-6895c73df06d",
   "metadata": {},
   "source": [
    "### Loading Graphs"
   ]
  },
  {
   "cell_type": "code",
   "execution_count": 190,
   "id": "fe220795-6978-4408-b39b-757607a2c22c",
   "metadata": {},
   "outputs": [],
   "source": [
    "import numpy as np\n",
    "import pandas as pd\n",
    "import matplotlib.pyplot as plt"
   ]
  },
  {
   "cell_type": "code",
   "execution_count": 194,
   "id": "597055e8-3be7-4a1c-b75e-1621654ebe8a",
   "metadata": {},
   "outputs": [
    {
     "data": {
      "image/png": "[encoded data removed]",
      "text/plain": [
       "<Figure size 640x480 with 1 Axes>"
      ]
     },
     "metadata": {},
     "output_type": "display_data"
    }
   ],
   "source": [
    "nx.draw_networkx(B)"
   ]
  },
  {
   "cell_type": "code",
   "execution_count": 195,
   "id": "5eca9320-8626-4c15-87d6-feca9137c1f0",
   "metadata": {},
   "outputs": [
    {
     "name": "stdout",
     "output_type": "stream",
     "text": [
      "0 1 2 3 5\n",
      "1 3 6\n",
      "2\n",
      "3 4\n",
      "4 5 7\n",
      "5 8\n",
      "6\n",
      "7\n",
      "8 9\n",
      "9\n"
     ]
    }
   ],
   "source": [
    "!cat G_adjlist.txt"
   ]
  },
  {
   "cell_type": "code",
   "execution_count": 197,
   "id": "867699a3-80b7-4912-a0ea-2fb43e425d01",
   "metadata": {},
   "outputs": [
    {
     "data": {
      "text/plain": [
       "EdgeView([(0, 1), (0, 2), (0, 3), (0, 5), (1, 3), (1, 6), (3, 4), (5, 4), (5, 8), (4, 7), (8, 9)])"
      ]
     },
     "execution_count": 197,
     "metadata": {},
     "output_type": "execute_result"
    }
   ],
   "source": [
    "G2 = nx.read_adjlist('G_adjlist.txt', nodetype=int)\n",
    "G2.edges()"
   ]
  },
  {
   "cell_type": "code",
   "execution_count": 198,
   "id": "93ab6736-5938-40bb-a0da-6ce30faafbcf",
   "metadata": {},
   "outputs": [
    {
     "data": {
      "text/plain": [
       "EdgeView([(0, 1), (0, 2), (0, 3), (0, 5), (1, 3), (1, 6), (3, 4), (4, 5), (4, 7), (5, 8), (8, 9)])"
      ]
     },
     "execution_count": 198,
     "metadata": {},
     "output_type": "execute_result"
    }
   ],
   "source": [
    "adj_matrix = np.array([[0, 1, 1, 1, 0, 1, 0, 0, 0, 0],\n",
    "                  [1, 0, 0, 1, 0, 0, 1, 0, 0, 0],\n",
    "                  [1, 0, 0, 0, 0, 0, 0, 0, 0, 0],\n",
    "                  [1, 1, 0, 0, 1, 0, 0, 0, 0, 0],\n",
    "                  [0, 0, 0, 1, 0, 1, 0, 1, 0, 0],\n",
    "                  [1, 0, 0, 0, 1, 0, 0, 0, 1, 0],\n",
    "                  [0, 1, 0, 0, 0, 0, 0, 0, 0, 0],\n",
    "                  [0, 0, 0, 0, 1, 0, 0, 0, 0, 0],\n",
    "                  [0, 0, 0, 0, 0, 1, 0, 0, 0, 1],\n",
    "                  [0, 0, 0, 0, 0, 0, 0, 0, 1, 0]])\n",
    "G3 = nx.Graph(adj_matrix)\n",
    "G3.edges()"
   ]
  },
  {
   "cell_type": "code",
   "execution_count": 199,
   "id": "35cc2aef-bd38-4d66-be43-2cb8a5418cb3",
   "metadata": {},
   "outputs": [
    {
     "name": "stdout",
     "output_type": "stream",
     "text": [
      "0 1 4\n",
      "0 2 3\n",
      "0 3 2\n",
      "0 5 6\n",
      "1 3 2\n",
      "1 6 5\n",
      "3 4 3\n",
      "4 5 1\n",
      "4 7 2\n",
      "5 8 6\n",
      "8 9 1\n"
     ]
    }
   ],
   "source": [
    "!cat G_edgelist.txt"
   ]
  },
  {
   "cell_type": "code",
   "execution_count": 200,
   "id": "1704274e-2213-4d72-b5a2-aff35a765f69",
   "metadata": {},
   "outputs": [
    {
     "data": {
      "text/plain": [
       "EdgeDataView([('0', '1', {'Weight': 4}), ('0', '2', {'Weight': 3}), ('0', '3', {'Weight': 2}), ('0', '5', {'Weight': 6}), ('1', '3', {'Weight': 2}), ('1', '6', {'Weight': 5}), ('3', '4', {'Weight': 3}), ('5', '4', {'Weight': 1}), ('5', '8', {'Weight': 6}), ('4', '7', {'Weight': 2}), ('8', '9', {'Weight': 1})])"
      ]
     },
     "execution_count": 200,
     "metadata": {},
     "output_type": "execute_result"
    }
   ],
   "source": [
    "G4 = nx.read_edgelist('G_edgelist.txt', data=[('Weight', int)])\n",
    "\n",
    "G4.edges(data=True)"
   ]
  },
  {
   "cell_type": "code",
   "execution_count": 201,
   "id": "d0389239-7cb7-41e4-a185-1fa60ae9cf1b",
   "metadata": {},
   "outputs": [
    {
     "data": {
      "text/html": [
       "<div>\n",
       "<style scoped>\n",
       "    .dataframe tbody tr th:only-of-type {\n",
       "        vertical-align: middle;\n",
       "    }\n",
       "\n",
       "    .dataframe tbody tr th {\n",
       "        vertical-align: top;\n",
       "    }\n",
       "\n",
       "    .dataframe thead th {\n",
       "        text-align: right;\n",
       "    }\n",
       "</style>\n",
       "<table border=\"1\" class=\"dataframe\">\n",
       "  <thead>\n",
       "    <tr style=\"text-align: right;\">\n",
       "      <th></th>\n",
       "      <th>n1</th>\n",
       "      <th>n2</th>\n",
       "      <th>weight</th>\n",
       "    </tr>\n",
       "  </thead>\n",
       "  <tbody>\n",
       "    <tr>\n",
       "      <th>0</th>\n",
       "      <td>0</td>\n",
       "      <td>1</td>\n",
       "      <td>4</td>\n",
       "    </tr>\n",
       "    <tr>\n",
       "      <th>1</th>\n",
       "      <td>0</td>\n",
       "      <td>2</td>\n",
       "      <td>3</td>\n",
       "    </tr>\n",
       "    <tr>\n",
       "      <th>2</th>\n",
       "      <td>0</td>\n",
       "      <td>3</td>\n",
       "      <td>2</td>\n",
       "    </tr>\n",
       "    <tr>\n",
       "      <th>3</th>\n",
       "      <td>0</td>\n",
       "      <td>5</td>\n",
       "      <td>6</td>\n",
       "    </tr>\n",
       "    <tr>\n",
       "      <th>4</th>\n",
       "      <td>1</td>\n",
       "      <td>3</td>\n",
       "      <td>2</td>\n",
       "    </tr>\n",
       "    <tr>\n",
       "      <th>5</th>\n",
       "      <td>1</td>\n",
       "      <td>6</td>\n",
       "      <td>5</td>\n",
       "    </tr>\n",
       "    <tr>\n",
       "      <th>6</th>\n",
       "      <td>3</td>\n",
       "      <td>4</td>\n",
       "      <td>3</td>\n",
       "    </tr>\n",
       "    <tr>\n",
       "      <th>7</th>\n",
       "      <td>4</td>\n",
       "      <td>5</td>\n",
       "      <td>1</td>\n",
       "    </tr>\n",
       "    <tr>\n",
       "      <th>8</th>\n",
       "      <td>4</td>\n",
       "      <td>7</td>\n",
       "      <td>2</td>\n",
       "    </tr>\n",
       "    <tr>\n",
       "      <th>9</th>\n",
       "      <td>5</td>\n",
       "      <td>8</td>\n",
       "      <td>6</td>\n",
       "    </tr>\n",
       "    <tr>\n",
       "      <th>10</th>\n",
       "      <td>8</td>\n",
       "      <td>9</td>\n",
       "      <td>1</td>\n",
       "    </tr>\n",
       "  </tbody>\n",
       "</table>\n",
       "</div>"
      ],
      "text/plain": [
       "    n1  n2  weight\n",
       "0    0   1       4\n",
       "1    0   2       3\n",
       "2    0   3       2\n",
       "3    0   5       6\n",
       "4    1   3       2\n",
       "5    1   6       5\n",
       "6    3   4       3\n",
       "7    4   5       1\n",
       "8    4   7       2\n",
       "9    5   8       6\n",
       "10   8   9       1"
      ]
     },
     "execution_count": 201,
     "metadata": {},
     "output_type": "execute_result"
    }
   ],
   "source": [
    "G_df = pd.read_csv('G_edgelist.txt', delim_whitespace=True, \n",
    "                   header=None, names=['n1', 'n2', 'weight'])\n",
    "G_df"
   ]
  },
  {
   "cell_type": "code",
   "execution_count": 202,
   "id": "683537d5-e6ce-4c52-bd70-58416a964e57",
   "metadata": {},
   "outputs": [
    {
     "data": {
      "text/plain": [
       "EdgeDataView([(0, 1, {'weight': 4}), (0, 2, {'weight': 3}), (0, 3, {'weight': 2}), (0, 5, {'weight': 6}), (1, 3, {'weight': 2}), (1, 6, {'weight': 5}), (3, 4, {'weight': 3}), (5, 4, {'weight': 1}), (5, 8, {'weight': 6}), (4, 7, {'weight': 2}), (8, 9, {'weight': 1})])"
      ]
     },
     "execution_count": 202,
     "metadata": {},
     "output_type": "execute_result"
    }
   ],
   "source": [
    "G5 = nx.from_pandas_edgelist(G_df, 'n1', 'n2', edge_attr='weight')\n",
    "G5.edges(data=True)"
   ]
  },
  {
   "cell_type": "code",
   "execution_count": 204,
   "id": "076474f1-5118-4528-b458-ad4ea6405d38",
   "metadata": {},
   "outputs": [],
   "source": [
    "chess = nx.read_edgelist('chess_graph.txt', data=[('outcome', int), ('timestamp', float)], \n",
    "                         create_using=nx.MultiDiGraph())"
   ]
  },
  {
   "cell_type": "code",
   "execution_count": 205,
   "id": "afdca0d7-2390-4280-bab6-d3d116314360",
   "metadata": {},
   "outputs": [
    {
     "data": {
      "text/plain": [
       "[('1', '2', {'outcome': 0, 'timestamp': 885635999.999997}),\n",
       " ('1', '3', {'outcome': 0, 'timestamp': 885635999.999997}),\n",
       " ('1', '4', {'outcome': 0, 'timestamp': 885635999.999997}),\n",
       " ('1', '5', {'outcome': 1, 'timestamp': 885635999.999997}),\n",
       " ('1', '6', {'outcome': 0, 'timestamp': 885635999.999997}),\n",
       " ('1', '807', {'outcome': 0, 'timestamp': 896148000.000003}),\n",
       " ('1', '454', {'outcome': 0, 'timestamp': 896148000.000003}),\n",
       " ('1', '827', {'outcome': 0, 'timestamp': 901403999.999997}),\n",
       " ('1', '1240', {'outcome': 0, 'timestamp': 906660000.0}),\n",
       " ('1', '680', {'outcome': 0, 'timestamp': 906660000.0})]"
      ]
     },
     "execution_count": 205,
     "metadata": {},
     "output_type": "execute_result"
    }
   ],
   "source": [
    "list(chess.edges(data=True))[0:10]"
   ]
  },
  {
   "cell_type": "code",
   "execution_count": 207,
   "id": "758fdfb5-2937-4a44-9dd5-4fab4d23da3a",
   "metadata": {},
   "outputs": [
    {
     "data": {
      "text/plain": [
       "[('1', 48),\n",
       " ('2', 112),\n",
       " ('3', 85),\n",
       " ('4', 12),\n",
       " ('5', 18),\n",
       " ('6', 95),\n",
       " ('7', 9),\n",
       " ('8', 20),\n",
       " ('9', 142),\n",
       " ('10', 4)]"
      ]
     },
     "execution_count": 207,
     "metadata": {},
     "output_type": "execute_result"
    }
   ],
   "source": [
    "games_played = chess.degree() # num edges\n",
    "list(games_played)[0:10]"
   ]
  },
  {
   "cell_type": "code",
   "execution_count": null,
   "id": "d37dc65f-23d2-4763-89eb-e64031c89c05",
   "metadata": {},
   "outputs": [],
   "source": []
  }
 ],
 "metadata": {
  "kernelspec": {
   "display_name": "Python 3 (ipykernel)",
   "language": "python",
   "name": "python3"
  },
  "language_info": {
   "codemirror_mode": {
    "name": "ipython",
    "version": 3
   },
   "file_extension": ".py",
   "mimetype": "text/x-python",
   "name": "python",
   "nbconvert_exporter": "python",
   "pygments_lexer": "ipython3",
   "version": "3.9.13"
  }
 },
 "nbformat": 4,
 "nbformat_minor": 5
}
