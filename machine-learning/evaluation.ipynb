{
 "cells": [
  {
   "cell_type": "code",
   "execution_count": 4,
   "id": "cfe4699f-48c6-4824-b123-d3d537f58efb",
   "metadata": {},
   "outputs": [],
   "source": [
    "import numpy as np\n",
    "import pandas as pd\n",
    "import seaborn as sns\n",
    "import matplotlib.pyplot as plt\n",
    "from sklearn.model_selection import train_test_split"
   ]
  },
  {
   "cell_type": "code",
   "execution_count": 5,
   "id": "7836dbc2-0406-440a-8165-4811d15ea500",
   "metadata": {},
   "outputs": [
    {
     "name": "stdout",
     "output_type": "stream",
     "text": [
      "[0 1 2 ... 8 9 8]\n",
      "[0 1 0 ... 0 0 0]\n"
     ]
    }
   ],
   "source": [
    "from sklearn.datasets import load_digits\n",
    "dataset = load_digits()\n",
    "X, y = dataset.data, dataset.target\n",
    "\n",
    "y_imbalanced = y.copy()\n",
    "y_imbalanced[y_imbalanced != 1] = 0\n",
    "\n",
    "print(y)            # digits 0-9 with equal dist\n",
    "print(y_imbalanced) # 1 has 10% probability and 0 has 90% probability\n",
    "\n",
    "X_train, X_test, y_train, y_test = train_test_split(X, y_imbalanced, random_state=0)"
   ]
  },
  {
   "cell_type": "markdown",
   "id": "22e90a7e-7ff2-40bf-b151-41bb09b05430",
   "metadata": {},
   "source": [
    "#### Dummy Classifier"
   ]
  },
  {
   "cell_type": "code",
   "execution_count": 6,
   "id": "5d53d80c-2398-4e9b-93b9-ed60831a4a6e",
   "metadata": {},
   "outputs": [
    {
     "data": {
      "text/plain": [
       "0.9044444444444445"
      ]
     },
     "execution_count": 6,
     "metadata": {},
     "output_type": "execute_result"
    }
   ],
   "source": [
    "from sklearn.dummy import DummyClassifier\n",
    "\n",
    "dummy_clf = DummyClassifier(strategy = 'most_frequent')\n",
    "dummy_clf.fit(X_train, y_train)\n",
    "\n",
    "dummy_clf.score(X_test, y_test) \n",
    "\n",
    "# We see that provides null accuracy is 90%. \n",
    "# This shows how high accuracy does not necessarily mean good classifier and underlines the importance of also using other evaluation methods\n",
    "# In short, this offers a sanity check"
   ]
  },
  {
   "cell_type": "markdown",
   "id": "bc37b1c2-010b-4651-89f2-26064df524b4",
   "metadata": {},
   "source": [
    "#### Confusion Matrix"
   ]
  },
  {
   "cell_type": "code",
   "execution_count": 7,
   "id": "7e7ef635-87b3-4fa9-ba97-5e556f06e746",
   "metadata": {},
   "outputs": [
    {
     "data": {
      "text/plain": [
       "array([[407,   0],\n",
       "       [ 43,   0]])"
      ]
     },
     "execution_count": 7,
     "metadata": {},
     "output_type": "execute_result"
    }
   ],
   "source": [
    "from sklearn.metrics import confusion_matrix\n",
    "\n",
    "confusion_matrix(y_test, dummy_clf.predict(X_test))\n",
    "\n",
    "# [True Negative, False Positive]\n",
    "# [False Negative, True Positive]\n",
    "\n",
    "# We see that the nature of the classifier is having no false positives and a lot of false negatives\n",
    "# This means this classifier is only predicting negative"
   ]
  },
  {
   "cell_type": "code",
   "execution_count": 8,
   "id": "1a0f8361-df83-440f-a6c1-f6e317d3391e",
   "metadata": {},
   "outputs": [
    {
     "data": {
      "text/plain": [
       "array([[402,   5],\n",
       "       [  5,  38]])"
      ]
     },
     "execution_count": 8,
     "metadata": {},
     "output_type": "execute_result"
    }
   ],
   "source": [
    "from sklearn.svm import SVC\n",
    "\n",
    "clf = SVC(kernel = 'linear', C=1)\n",
    "clf.fit(X_train, y_train)\n",
    "\n",
    "SVC_predict = clf.predict(X_test)\n",
    "confusion_matrix(y_test, SVC_predict)"
   ]
  },
  {
   "cell_type": "markdown",
   "id": "878a7454-f723-489b-b0f9-d4074106afec",
   "metadata": {},
   "source": [
    "### Q: Minimizing false negatives or false positives?\n",
    "### $Precision = TP/(TP+FP)$ and $Recall = TP/(TP+FN)$\n",
    "\n",
    "##### High Precision, Low Recall\n",
    "false positive (wrongful conviction) is damaging when convicting criminals, and false negative (innocence of criminal) is favored\n",
    "\n",
    "##### Low Precision, High Recall\n",
    "false positive (labeling nonevidence as evidence) is OK when searching for evidence in a court case because experts can filter them out, but false negative (leaving out evidence) is damaging"
   ]
  },
  {
   "cell_type": "code",
   "execution_count": 9,
   "id": "891c100a-4c2f-4f40-883e-5d7bbfe92110",
   "metadata": {},
   "outputs": [
    {
     "name": "stdout",
     "output_type": "stream",
     "text": [
      "              precision    recall  f1-score   support\n",
      "\n",
      "           0       0.99      0.99      0.99       407\n",
      "           1       0.88      0.88      0.88        43\n",
      "\n",
      "    accuracy                           0.98       450\n",
      "   macro avg       0.94      0.94      0.94       450\n",
      "weighted avg       0.98      0.98      0.98       450\n",
      "\n",
      "accuracy:\t 0.9777777777777777\n",
      "precision:\t 0.8837209302325582\n",
      "recall:\t\t 0.8837209302325582\n",
      "f1:\t\t 0.8837209302325582\n"
     ]
    }
   ],
   "source": [
    "from sklearn.metrics import classification_report\n",
    "print(classification_report(y_test, SVC_predict))\n",
    "\n",
    "from sklearn.metrics import accuracy_score, precision_score, recall_score, f1_score\n",
    "print(\"accuracy:\\t\", accuracy_score(y_test, SVC_predict))\n",
    "print(\"precision:\\t\", precision_score(y_test, SVC_predict))\n",
    "print(\"recall:\\t\\t\", recall_score(y_test, SVC_predict))\n",
    "print(\"f1:\\t\\t\", f1_score(y_test, SVC_predict))"
   ]
  },
  {
   "cell_type": "markdown",
   "id": "5d335774-c27c-460d-8181-75d6b722e307",
   "metadata": {},
   "source": [
    "### Precision Recall Curve"
   ]
  },
  {
   "cell_type": "code",
   "execution_count": 10,
   "id": "08886082-7e00-45ae-a4ed-dafdc67565aa",
   "metadata": {},
   "outputs": [
    {
     "data": {
      "text/plain": [
       "Text(0, 0.5, 'Recall')"
      ]
     },
     "execution_count": 10,
     "metadata": {},
     "output_type": "execute_result"
    },
    {
     "data": {
      "image/png": "[encoded data removed]",
      "text/plain": [
       "<Figure size 640x480 with 1 Axes>"
      ]
     },
     "metadata": {},
     "output_type": "display_data"
    }
   ],
   "source": [
    "from sklearn.metrics import precision_recall_curve\n",
    "\n",
    "precision, recall, thresholds = precision_recall_curve(y_test, SVC_predict)\n",
    "\n",
    "plt.plot(precision, recall, label='Precision-Recall Curve')\n",
    "plt.xlabel('Precision', fontsize=12)\n",
    "plt.ylabel('Recall', fontsize=12)"
   ]
  },
  {
   "cell_type": "markdown",
   "id": "7aa6f862-8374-4820-9d87-c12a2de286a1",
   "metadata": {},
   "source": [
    "### Multi-Class Evaluation"
   ]
  },
  {
   "cell_type": "code",
   "execution_count": 11,
   "id": "43b616b5-e8ee-477d-8f96-48991b5dcc28",
   "metadata": {},
   "outputs": [
    {
     "data": {
      "text/plain": [
       "Text(0.5, 14.722222222222216, 'Predicted label')"
      ]
     },
     "execution_count": 11,
     "metadata": {},
     "output_type": "execute_result"
    },
    {
     "data": {
      "image/png": "[encoded data removed]",
      "text/plain": [
       "<Figure size 550x400 with 2 Axes>"
      ]
     },
     "metadata": {},
     "output_type": "display_data"
    }
   ],
   "source": [
    "X, y = dataset.data, dataset.target\n",
    "X_train, X_test, y_train, y_test = train_test_split(X, y, random_state=0)\n",
    "\n",
    "\n",
    "clf = SVC(kernel = 'sigmoid')\n",
    "clf.fit(X_train, y_train)\n",
    "\n",
    "clf_predict = clf.predict(X_test * 1.9)\n",
    "\n",
    "matrix = confusion_matrix(y_test, clf_predict)\n",
    "df = pd.DataFrame(matrix)\n",
    "\n",
    "plt.figure(figsize=(5.5,4))\n",
    "sns.heatmap(df, annot=True, cmap = 'Blues')\n",
    "\n",
    "plt.ylabel('True label')\n",
    "plt.xlabel('Predicted label')\n",
    "\n",
    "# Example of classifier that predicts 7 too much"
   ]
  },
  {
   "cell_type": "markdown",
   "id": "689c41b6-4bf2-47c3-bd50-c09d4dc39630",
   "metadata": {},
   "source": [
    "### Regression Evaluation\n",
    "Typically, r2_score is enough, but median_absolute_error can also be used if ignoring outliers is important"
   ]
  },
  {
   "cell_type": "markdown",
   "id": "25836379-94ac-4163-8deb-8e7ac76e59dc",
   "metadata": {},
   "source": [
    "### Model Selection"
   ]
  },
  {
   "cell_type": "code",
   "execution_count": 13,
   "id": "5b5b970a-b963-4f7a-987b-8dbcdee468c0",
   "metadata": {},
   "outputs": [
    {
     "name": "stdout",
     "output_type": "stream",
     "text": [
      "[0.91944444 0.98611111 0.97214485 0.97493036 0.96935933]\n",
      "[0.9641871  0.9976571  0.99372205 0.99699002 0.98675611]\n",
      "[0.81081081 0.89189189 0.83333333 0.83333333 0.83333333]\n"
     ]
    }
   ],
   "source": [
    "from sklearn.model_selection import cross_val_score\n",
    " \n",
    "X, y = dataset.data, dataset.target == 1\n",
    "clf = SVC(kernel='linear', C=1)\n",
    "\n",
    "# five folds of accuracy scoring\n",
    "print(cross_val_score(clf, X, y, cv=5))\n",
    "\n",
    "# five folds of area under the curve evaluation\n",
    "print(cross_val_score(clf, X, y, cv=5, scoring = 'roc_auc'))\n",
    "\n",
    "# five folds of recall evaluation\n",
    "print(cross_val_score(clf, X, y, cv=5, scoring = 'recall'))"
   ]
  },
  {
   "cell_type": "code",
   "execution_count": 22,
   "id": "b949d065-82ac-4919-ac48-4b45717e8f88",
   "metadata": {},
   "outputs": [
    {
     "name": "stdout",
     "output_type": "stream",
     "text": [
      "Grid best parameter (max. accuracy):  {'gamma': 0.001}\n",
      "Grid best score (accuracy):  0.9985157648354676\n",
      "Grid best parameter (max. AUC):  {'gamma': 0.001}\n",
      "Grid best score (AUC):  1.0\n"
     ]
    }
   ],
   "source": [
    "from sklearn.model_selection import GridSearchCV\n",
    "from sklearn.metrics import roc_auc_score\n",
    "\n",
    "X_train, X_test, y_train, y_test = train_test_split(X, y, random_state=0)\n",
    "\n",
    "clf = SVC(kernel='rbf')\n",
    "\n",
    "# test gamma values\n",
    "grid_values = {'gamma': [0.001, 0.01, 0.05, 0.1, 1, 10, 100]}\n",
    "\n",
    "# Training SVC with different gamma values to find best accuracy\n",
    "grid = GridSearchCV(clf, param_grid = grid_values)\n",
    "grid.fit(X_train, y_train)\n",
    "\n",
    "print('Grid best parameter (max. accuracy): ', grid.best_params_)\n",
    "print('Grid best score (accuracy): ', grid.best_score_)\n",
    "\n",
    "# Training SVC with different gamma values to find highest area under curve\n",
    "grid = GridSearchCV(clf, param_grid = grid_values, scoring = 'roc_auc')\n",
    "grid.fit(X_train, y_train)\n",
    "\n",
    "print('Grid best parameter (max. AUC): ', grid.best_params_)\n",
    "print('Grid best score (AUC): ', grid.best_score_)"
   ]
  },
  {
   "cell_type": "code",
   "execution_count": 21,
   "id": "47794b42-442d-44cb-9f48-8891b5eab005",
   "metadata": {},
   "outputs": [
    {
     "data": {
      "text/plain": [
       "['explained_variance',\n",
       " 'r2',\n",
       " 'max_error',\n",
       " 'matthews_corrcoef',\n",
       " 'neg_median_absolute_error',\n",
       " 'neg_mean_absolute_error',\n",
       " 'neg_mean_absolute_percentage_error',\n",
       " 'neg_mean_squared_error',\n",
       " 'neg_mean_squared_log_error',\n",
       " 'neg_root_mean_squared_error',\n",
       " 'neg_mean_poisson_deviance',\n",
       " 'neg_mean_gamma_deviance',\n",
       " 'accuracy',\n",
       " 'top_k_accuracy',\n",
       " 'roc_auc',\n",
       " 'roc_auc_ovr',\n",
       " 'roc_auc_ovo',\n",
       " 'roc_auc_ovr_weighted',\n",
       " 'roc_auc_ovo_weighted',\n",
       " 'balanced_accuracy',\n",
       " 'average_precision',\n",
       " 'neg_log_loss',\n",
       " 'neg_brier_score',\n",
       " 'adjusted_rand_score',\n",
       " 'rand_score',\n",
       " 'homogeneity_score',\n",
       " 'completeness_score',\n",
       " 'v_measure_score',\n",
       " 'mutual_info_score',\n",
       " 'adjusted_mutual_info_score',\n",
       " 'normalized_mutual_info_score',\n",
       " 'fowlkes_mallows_score',\n",
       " 'precision',\n",
       " 'precision_macro',\n",
       " 'precision_micro',\n",
       " 'precision_samples',\n",
       " 'precision_weighted',\n",
       " 'recall',\n",
       " 'recall_macro',\n",
       " 'recall_micro',\n",
       " 'recall_samples',\n",
       " 'recall_weighted',\n",
       " 'f1',\n",
       " 'f1_macro',\n",
       " 'f1_micro',\n",
       " 'f1_samples',\n",
       " 'f1_weighted',\n",
       " 'jaccard',\n",
       " 'jaccard_macro',\n",
       " 'jaccard_micro',\n",
       " 'jaccard_samples',\n",
       " 'jaccard_weighted']"
      ]
     },
     "execution_count": 21,
     "metadata": {},
     "output_type": "execute_result"
    }
   ],
   "source": [
    "from sklearn.metrics import SCORERS\n",
    "list(SCORERS.keys()) "
   ]
  }
 ],
 "metadata": {
  "kernelspec": {
   "display_name": "Python 3 (ipykernel)",
   "language": "python",
   "name": "python3"
  },
  "language_info": {
   "codemirror_mode": {
    "name": "ipython",
    "version": 3
   },
   "file_extension": ".py",
   "mimetype": "text/x-python",
   "name": "python",
   "nbconvert_exporter": "python",
   "pygments_lexer": "ipython3",
   "version": "3.9.13"
  }
 },
 "nbformat": 4,
 "nbformat_minor": 5
}
