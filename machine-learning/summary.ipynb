{
 "cells": [
  {
   "cell_type": "code",
   "execution_count": 41,
   "id": "3bb73e1f-c5a0-4d1e-bf9f-3d36cbda8014",
   "metadata": {},
   "outputs": [],
   "source": [
    "import warnings\n",
    "warnings.filterwarnings(\"ignore\")\n",
    "\n",
    "import os\n",
    "import pandas as pd\n",
    "import numpy as np\n",
    "import matplotlib.pyplot as plt\n",
    "\n",
    "np.random.seed(0)\n",
    "\n",
    "from sklearn.model_selection import GridSearchCV\n",
    "from sklearn.ensemble import GradientBoostingClassifier\n",
    "from sklearn.svm import SVC\n",
    "from sklearn.naive_bayes import GaussianNB\n",
    "from sklearn.ensemble import RandomForestClassifier\n",
    "from sklearn.ensemble import GradientBoostingClassifier\n",
    "from sklearn.neural_network import MLPClassifier\n",
    "\n",
    "from sklearn.metrics import roc_auc_score\n",
    "\n",
    "from sklearn.model_selection import cross_val_score\n",
    "\n",
    "from sklearn.model_selection import train_test_split"
   ]
  },
  {
   "cell_type": "code",
   "execution_count": 42,
   "id": "58dcca5b-5af5-406a-9f6a-3869455e9773",
   "metadata": {},
   "outputs": [],
   "source": [
    "train = pd.read_csv(\"assets/train.csv\")\n",
    "test = pd.read_csv(\"assets/test.csv\")\n",
    "id = test['id']\n",
    "test = test[['title_word_count', 'document_entropy', 'freshness', 'easiness',\n",
    "       'fraction_stopword_presence', 'speaker_speed',\n",
    "       'silent_period_rate']]"
   ]
  },
  {
   "cell_type": "code",
   "execution_count": 58,
   "id": "4c0de0a7-525f-4528-933f-7f6eeeab3dbc",
   "metadata": {},
   "outputs": [],
   "source": [
    "X = train[['title_word_count', 'document_entropy', 'freshness', 'easiness',\n",
    "       'fraction_stopword_presence', 'speaker_speed',\n",
    "       'silent_period_rate']]\n",
    "y = train['engagement']"
   ]
  },
  {
   "cell_type": "code",
   "execution_count": 44,
   "id": "366a952e-47af-41fc-9b92-c2acc585ad22",
   "metadata": {},
   "outputs": [],
   "source": [
    "X_train, X_test, y_train, y_test = train_test_split(X, y)"
   ]
  },
  {
   "cell_type": "code",
   "execution_count": 45,
   "id": "65bf3403-bf9c-410d-8abf-46a25288232f",
   "metadata": {},
   "outputs": [],
   "source": [
    "# clf = SVC(kernel = 'rbf')\n",
    "\n",
    "# grid_values = {'gamma': [0.001, 0.01, 0.1, 1, 10, 100, 1000],\n",
    "#               'C': [0.1, 1, 10, 100, 1000]}\n",
    "\n",
    "# grid = GridSearchCV(clf, param_grid = grid_values, scoring = 'roc_auc')\n",
    "# grid.fit(X_train, y_train)\n",
    "\n",
    "#print(grid.best_params_)\n",
    "#print(grid.best_score_)"
   ]
  },
  {
   "cell_type": "markdown",
   "id": "bd44e4ef-d121-437f-b6e1-e4479495ac47",
   "metadata": {},
   "source": [
    "Output of above cell:\n",
    "`{'C': 100, 'gamma': 0.001}\n",
    "0.7908781947966373`"
   ]
  },
  {
   "cell_type": "code",
   "execution_count": 46,
   "id": "5fdce89b-799e-4685-8aaa-6df5193707c4",
   "metadata": {},
   "outputs": [
    {
     "data": {
      "text/plain": [
       "0.8164061392294337"
      ]
     },
     "execution_count": 46,
     "metadata": {},
     "output_type": "execute_result"
    }
   ],
   "source": [
    "# clf = SVC(kernel = 'rbf', C = 100, gamma = 0.001)\n",
    "# clf.fit(X_train, y_train)\n",
    "\n",
    "# np.mean(cross_val_score(clf, X, y, cv=5, scoring = 'roc_auc'))"
   ]
  },
  {
   "cell_type": "markdown",
   "id": "c6f2d258-c28b-48f3-8d53-068cdbe49132",
   "metadata": {},
   "source": [
    "Output of above cell:\n",
    "`0.8164061392294337`"
   ]
  },
  {
   "cell_type": "code",
   "execution_count": 47,
   "id": "9e6ea6f6-2ca0-45eb-be68-0dd90050d6a8",
   "metadata": {},
   "outputs": [
    {
     "data": {
      "text/plain": [
       "0.8236367940435819"
      ]
     },
     "execution_count": 47,
     "metadata": {},
     "output_type": "execute_result"
    }
   ],
   "source": [
    "# clf = GaussianNB()\n",
    "# clf.fit(X_train, y_train)\n",
    "\n",
    "# np.mean(cross_val_score(clf, X, y, cv=5, scoring = 'roc_auc'))"
   ]
  },
  {
   "cell_type": "markdown",
   "id": "c5483df8-6ed6-4175-b390-642ed4f595fc",
   "metadata": {},
   "source": [
    "Output of above cell:\n",
    "`0.8236367940435819`"
   ]
  },
  {
   "cell_type": "code",
   "execution_count": 48,
   "id": "c312317e-5460-454b-9a1d-effa048f47a2",
   "metadata": {
    "tags": []
   },
   "outputs": [
    {
     "data": {
      "text/plain": [
       "0.8901539906313817"
      ]
     },
     "execution_count": 48,
     "metadata": {},
     "output_type": "execute_result"
    }
   ],
   "source": [
    "# clf = RandomForestClassifier(random_state = 0)\n",
    "# clf.fit(X_train, y_train)\n",
    "\n",
    "# np.mean(cross_val_score(clf, X, y, cv=5, scoring = 'roc_auc'))"
   ]
  },
  {
   "cell_type": "markdown",
   "id": "769b6a2b-1c1a-4325-8f93-6b96d6876d81",
   "metadata": {},
   "source": [
    "Output of above cell:\n",
    "`0.8901539906313817`"
   ]
  },
  {
   "cell_type": "code",
   "execution_count": 49,
   "id": "c5396d67-5735-4869-a713-46996c643366",
   "metadata": {},
   "outputs": [
    {
     "data": {
      "text/plain": [
       "0.8842899329829359"
      ]
     },
     "execution_count": 49,
     "metadata": {},
     "output_type": "execute_result"
    }
   ],
   "source": [
    "# clf = GradientBoostingClassifier(random_state = 0)\n",
    "\n",
    "# np.mean(cross_val_score(clf, X, y, cv=5, scoring = 'roc_auc'))"
   ]
  },
  {
   "cell_type": "markdown",
   "id": "7f094ee9-70b8-489c-b50c-0070e983479b",
   "metadata": {},
   "source": [
    "Output of above cell:\n",
    "`0.8842899329829359`"
   ]
  },
  {
   "cell_type": "code",
   "execution_count": 50,
   "id": "1236d6a1-b20b-4507-8c65-2075af8ae166",
   "metadata": {},
   "outputs": [
    {
     "data": {
      "text/plain": [
       "0.5"
      ]
     },
     "execution_count": 50,
     "metadata": {},
     "output_type": "execute_result"
    }
   ],
   "source": [
    "# nnclf = MLPClassifier(hidden_layer_sizes = [50, 25, 10], solver='lbfgs', random_state = 0)\n",
    "\n",
    "# np.mean(cross_val_score(nnclf, X, y, cv=5, scoring = 'roc_auc'))"
   ]
  },
  {
   "cell_type": "code",
   "execution_count": 51,
   "id": "ebac527b-4907-40b8-9c92-aae755c1d268",
   "metadata": {},
   "outputs": [],
   "source": [
    "# clf = GradientBoostingClassifier(loss = 'log_loss', random_state = 0)\n",
    "\n",
    "# grid_values = {'learning_rate': [0.005],\n",
    "#               'n_estimators': [10, 100, 1000]}\n",
    "\n",
    "# grid = GridSearchCV(clf, param_grid = grid_values, scoring = 'roc_auc')\n",
    "# grid.fit(X_train, y_train)\n",
    "\n",
    "# print(grid.best_params_)\n",
    "# print(grid.best_score_)"
   ]
  },
  {
   "cell_type": "markdown",
   "id": "ad73c9aa-ede3-4130-bed9-f82f827ea06c",
   "metadata": {},
   "source": [
    "Output of above cell:\n",
    "  `{'learning_rate': 0.005, 'n_estimators': 1000}\n",
    "    0.8851923748820957`"
   ]
  },
  {
   "cell_type": "code",
   "execution_count": 52,
   "id": "1d0f622e-95f4-4a66-8661-fc9b65fd542a",
   "metadata": {},
   "outputs": [
    {
     "name": "stdout",
     "output_type": "stream",
     "text": [
      "0.8842080112792795\n",
      "0.8867944803094362\n"
     ]
    }
   ],
   "source": [
    "# clf = GradientBoostingClassifier(loss = 'log_loss', learning_rate = 0.005, n_estimators = 1000, random_state = 0)\n",
    "\n",
    "# print(np.mean(cross_val_score(clf, X, y, cv=3, scoring = 'roc_auc')))\n",
    "\n",
    "# clf = GradientBoostingClassifier(loss = 'exponential', learning_rate = 0.005, n_estimators = 1000, random_state = 0)\n",
    "\n",
    "# print(np.mean(cross_val_score(clf, X, y, cv=3, scoring = 'roc_auc')))"
   ]
  },
  {
   "cell_type": "markdown",
   "id": "f79a8638-a985-4f7e-b222-0f35d6ad7103",
   "metadata": {
    "tags": []
   },
   "source": [
    "Output of above cell:\n",
    "  `0.8842080112792795\n",
    "    0.8867944803094362\n",
    "`"
   ]
  },
  {
   "cell_type": "code",
   "execution_count": 53,
   "id": "d7803972-166d-44b1-9952-b44469399329",
   "metadata": {},
   "outputs": [
    {
     "name": "stdout",
     "output_type": "stream",
     "text": [
      "0.8896371111558187\n"
     ]
    }
   ],
   "source": [
    "# clf = GradientBoostingClassifier(loss = 'exponential', learning_rate = 0.01, n_estimators = 1000, random_state = 0)\n",
    "\n",
    "# print(np.mean(cross_val_score(clf, X, y, cv=3, scoring = 'roc_auc')))"
   ]
  },
  {
   "cell_type": "markdown",
   "id": "e19a1237-c6e3-41a9-9bff-03980ead4d69",
   "metadata": {},
   "source": [
    "Output of above cell:\n",
    "  `0.8842080112792795\n",
    "`"
   ]
  },
  {
   "cell_type": "code",
   "execution_count": 54,
   "id": "b0785732-2d74-45cd-b2ed-55850d973998",
   "metadata": {},
   "outputs": [],
   "source": [
    "# clf = RandomForestClassifier()\n",
    "\n",
    "# grid_values = {'n_estimators': [10, 100, 1000],\n",
    "#               'max_depth': [None, 30]}\n",
    "\n",
    "# grid = GridSearchCV(clf, param_grid = grid_values, scoring = 'roc_auc')\n",
    "# grid.fit(X_train, y_train)\n",
    "\n",
    "# print(grid.best_params_)\n",
    "# print(grid.best_score_)"
   ]
  },
  {
   "cell_type": "markdown",
   "id": "10792f06-5b16-433d-b8fd-1077c52e517b",
   "metadata": {},
   "source": [
    "Output of above cell:\n",
    "  `{'max_depth': 30, 'n_estimators': 1000}\n",
    "               0.8945231186241278\n",
    "`"
   ]
  },
  {
   "cell_type": "code",
   "execution_count": 55,
   "id": "881d2371-fc99-43d2-91f6-3bdedf2dfb97",
   "metadata": {},
   "outputs": [
    {
     "name": "stdout",
     "output_type": "stream",
     "text": [
      "0.890785080226309\n"
     ]
    }
   ],
   "source": [
    "# clf = RandomForestClassifier(max_depth = 30, n_estimators = 1000)\n",
    "\n",
    "# print(np.mean(cross_val_score(clf, X, y, cv=3, scoring = 'roc_auc')))"
   ]
  },
  {
   "cell_type": "code",
   "execution_count": null,
   "id": "48cdd546-aec6-4bc5-8ca5-1c818d51b6e8",
   "metadata": {},
   "outputs": [],
   "source": []
  },
  {
   "cell_type": "code",
   "execution_count": 56,
   "id": "dab1e4cf-d55a-4af5-a76e-9610b3cfd3ee",
   "metadata": {
    "tags": []
   },
   "outputs": [],
   "source": [
    "# df = pd.DataFrame(clf.predict(test))\n",
    "# df['id'] = id\n",
    "# df = df.set_index('id')\n",
    "# series = df.squeeze()\n",
    "# series"
   ]
  },
  {
   "cell_type": "code",
   "execution_count": null,
   "id": "aa3b7532-839f-478c-85ae-f59c8e4c0525",
   "metadata": {},
   "outputs": [],
   "source": []
  },
  {
   "cell_type": "code",
   "execution_count": null,
   "id": "341c9aed-3ee9-4f6b-82c6-1a8ec949ce5f",
   "metadata": {},
   "outputs": [],
   "source": []
  }
 ],
 "metadata": {
  "kernelspec": {
   "display_name": "Python 3 (ipykernel)",
   "language": "python",
   "name": "python3"
  },
  "language_info": {
   "codemirror_mode": {
    "name": "ipython",
    "version": 3
   },
   "file_extension": ".py",
   "mimetype": "text/x-python",
   "name": "python",
   "nbconvert_exporter": "python",
   "pygments_lexer": "ipython3",
   "version": "3.9.13"
  }
 },
 "nbformat": 4,
 "nbformat_minor": 5
}
